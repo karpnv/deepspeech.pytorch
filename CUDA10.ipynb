{
  "nbformat": 4,
  "nbformat_minor": 0,
  "metadata": {
    "colab": {
      "name": "Untitled3.ipynb",
      "version": "0.3.2",
      "provenance": [],
      "collapsed_sections": [],
      "include_colab_link": true
    },
    "kernelspec": {
      "name": "python3",
      "display_name": "Python 3"
    },
    "accelerator": "GPU"
  },
  "cells": [
    {
      "cell_type": "markdown",
      "metadata": {
        "id": "view-in-github",
        "colab_type": "text"
      },
      "source": [
        "<a href=\"https://colab.research.google.com/github/vladimirwest/deepspeech.pytorch/blob/master/CUDA10.ipynb\" target=\"_parent\"><img src=\"https://colab.research.google.com/assets/colab-badge.svg\" alt=\"Open In Colab\"/></a>"
      ]
    },
    {
      "metadata": {
        "id": "Bn9kS8F7isNc",
        "colab_type": "code",
        "outputId": "5836e6c9-2ac6-498f-a248-4779aa399b75",
        "colab": {
          "base_uri": "https://localhost:8080/",
          "height": 306
        }
      },
      "cell_type": "code",
      "source": [
        "!nvidia-smi"
      ],
      "execution_count": 0,
      "outputs": [
        {
          "output_type": "stream",
          "text": [
            "Wed Apr  3 18:52:00 2019       \n",
            "+-----------------------------------------------------------------------------+\n",
            "| NVIDIA-SMI 418.56       Driver Version: 410.79       CUDA Version: 10.0     |\n",
            "|-------------------------------+----------------------+----------------------+\n",
            "| GPU  Name        Persistence-M| Bus-Id        Disp.A | Volatile Uncorr. ECC |\n",
            "| Fan  Temp  Perf  Pwr:Usage/Cap|         Memory-Usage | GPU-Util  Compute M. |\n",
            "|===============================+======================+======================|\n",
            "|   0  Tesla K80           Off  | 00000000:00:04.0 Off |                    0 |\n",
            "| N/A   39C    P8    27W / 149W |      0MiB / 11441MiB |      0%      Default |\n",
            "+-------------------------------+----------------------+----------------------+\n",
            "                                                                               \n",
            "+-----------------------------------------------------------------------------+\n",
            "| Processes:                                                       GPU Memory |\n",
            "|  GPU       PID   Type   Process name                             Usage      |\n",
            "|=============================================================================|\n",
            "|  No running processes found                                                 |\n",
            "+-----------------------------------------------------------------------------+\n"
          ],
          "name": "stdout"
        }
      ]
    },
    {
      "metadata": {
        "id": "mvtdQw5riwou",
        "colab_type": "code",
        "colab": {}
      },
      "cell_type": "code",
      "source": [
        ""
      ],
      "execution_count": 0,
      "outputs": []
    },
    {
      "metadata": {
        "id": "yDhenIMzi2fc",
        "colab_type": "code",
        "outputId": "cd640390-b04c-4c9f-b0d1-7fb501b3c5b8",
        "colab": {
          "base_uri": "https://localhost:8080/",
          "height": 119
        }
      },
      "cell_type": "code",
      "source": [
        "!pip install torchvision"
      ],
      "execution_count": 0,
      "outputs": [
        {
          "output_type": "stream",
          "text": [
            "Requirement already satisfied: torchvision in /usr/local/lib/python3.6/dist-packages (0.2.2.post3)\n",
            "Requirement already satisfied: numpy in /usr/local/lib/python3.6/dist-packages (from torchvision) (1.14.6)\n",
            "Requirement already satisfied: torch in /usr/local/lib/python3.6/dist-packages (from torchvision) (1.0.1.post2)\n",
            "Requirement already satisfied: pillow>=4.1.1 in /usr/local/lib/python3.6/dist-packages (from torchvision) (4.1.1)\n",
            "Requirement already satisfied: six in /usr/local/lib/python3.6/dist-packages (from torchvision) (1.11.0)\n",
            "Requirement already satisfied: olefile in /usr/local/lib/python3.6/dist-packages (from pillow>=4.1.1->torchvision) (0.46)\n"
          ],
          "name": "stdout"
        }
      ]
    },
    {
      "metadata": {
        "id": "DsQ8JpWIjIB6",
        "colab_type": "code",
        "outputId": "fb3490a9-53cc-4573-978c-89050978ef27",
        "colab": {
          "base_uri": "https://localhost:8080/",
          "height": 119
        }
      },
      "cell_type": "code",
      "source": [
        "# Use PyTorch to check versions, CUDA version and cuDNN\n",
        "\n",
        "import torch\n",
        "\n",
        "print(\"PyTorch version: \")\n",
        "print(torch.__version__)\n",
        "print(\"CUDA Version: \")\n",
        "print(torch.version.cuda)\n",
        "print(\"cuDNN version is: \")\n",
        "print(torch.backends.cudnn.version())"
      ],
      "execution_count": 0,
      "outputs": [
        {
          "output_type": "stream",
          "text": [
            "PyTorch version: \n",
            "1.0.1.post2\n",
            "CUDA Version: \n",
            "10.0.130\n",
            "cuDNN version is: \n",
            "7402\n"
          ],
          "name": "stdout"
        }
      ]
    },
    {
      "metadata": {
        "id": "_gatad7njLDc",
        "colab_type": "code",
        "outputId": "e0656dba-3307-4fc2-b455-0bb8ceb21a91",
        "colab": {
          "base_uri": "https://localhost:8080/",
          "height": 170
        }
      },
      "cell_type": "code",
      "source": [
        "!git clone https://github.com/vladimirwest/deepspeech.pytorch.git\n",
        "!apt-get install sox"
      ],
      "execution_count": 36,
      "outputs": [
        {
          "output_type": "stream",
          "text": [
            "fatal: destination path 'deepspeech.pytorch' already exists and is not an empty directory.\n",
            "Reading package lists... Done\n",
            "Building dependency tree       \n",
            "Reading state information... Done\n",
            "sox is already the newest version (14.4.2-3).\n",
            "The following package was automatically installed and is no longer required:\n",
            "  libnvidia-common-410\n",
            "Use 'apt autoremove' to remove it.\n",
            "0 upgraded, 0 newly installed, 0 to remove and 6 not upgraded.\n"
          ],
          "name": "stdout"
        }
      ]
    },
    {
      "metadata": {
        "id": "r5g9uRlqjN2_",
        "colab_type": "code",
        "outputId": "ded1f03a-b438-4112-bf5f-0b758a28ed55",
        "colab": {
          "base_uri": "https://localhost:8080/",
          "height": 153
        }
      },
      "cell_type": "code",
      "source": [
        "%cd /content\n",
        "!python3 deepspeech.pytorch/data/voxforge.py"
      ],
      "execution_count": 0,
      "outputs": [
        {
          "output_type": "stream",
          "text": [
            "/content\n",
            "100% 646/646 [05:57<00:00,  1.65it/s]\n",
            "Creating manifests...\n",
            "Sorting manifests...\n",
            "Pruning manifests between 1 and 15 seconds\n",
            "100% 8345/8345 [00:00<00:00, 56653.55it/s]\n",
            "\n",
            "\n"
          ],
          "name": "stdout"
        }
      ]
    },
    {
      "metadata": {
        "id": "6MOM5FI-jdWD",
        "colab_type": "code",
        "outputId": "694d207f-4446-4997-b25e-ec8f1b1a4022",
        "colab": {
          "base_uri": "https://localhost:8080/",
          "height": 34
        }
      },
      "cell_type": "code",
      "source": [
        "!cat voxforge_dataset/txt/1-20121125-pgp_ru_0022.txt"
      ],
      "execution_count": 11,
      "outputs": [
        {
          "output_type": "stream",
          "text": [
            "над этой машиной он ткнул трубкой в сторону лесов работаю давно"
          ],
          "name": "stdout"
        }
      ]
    },
    {
      "metadata": {
        "id": "LnNfn0jlje9B",
        "colab_type": "code",
        "colab": {
          "base_uri": "https://localhost:8080/",
          "height": 204
        },
        "outputId": "0a7ae590-8ac1-4f6e-c4ac-0028f00e5795"
      },
      "cell_type": "code",
      "source": [
        "%cd /content\n",
        "!apt-get install cmake\n",
        "!git clone https://github.com/SeanNaren/warp-ctc.git\n",
        "!export CUDA_HOME=\"/usr/local/cuda\"\n",
        "!mkdir warp-ctc/build"
      ],
      "execution_count": 19,
      "outputs": [
        {
          "output_type": "stream",
          "text": [
            "/content\n",
            "Reading package lists... Done\n",
            "Building dependency tree       \n",
            "Reading state information... Done\n",
            "cmake is already the newest version (3.10.2-1ubuntu2).\n",
            "The following package was automatically installed and is no longer required:\n",
            "  libnvidia-common-410\n",
            "Use 'apt autoremove' to remove it.\n",
            "0 upgraded, 0 newly installed, 0 to remove and 6 not upgraded.\n",
            "fatal: destination path 'warp-ctc' already exists and is not an empty directory.\n",
            "mkdir: cannot create directory ‘warp-ctc/build’: File exists\n"
          ],
          "name": "stdout"
        }
      ]
    },
    {
      "metadata": {
        "id": "6g3EpxOQmQF4",
        "colab_type": "code",
        "colab": {}
      },
      "cell_type": "code",
      "source": [
        "import os\n",
        "os.chdir('/content/warp-ctc/build')"
      ],
      "execution_count": 0,
      "outputs": []
    },
    {
      "metadata": {
        "id": "SLmN1z_KmTyz",
        "colab_type": "code",
        "colab": {
          "base_uri": "https://localhost:8080/",
          "height": 204
        },
        "outputId": "c198207b-85ad-45b7-9116-f3ac2d3e5d00"
      },
      "cell_type": "code",
      "source": [
        "!cmake ..\n",
        "!make"
      ],
      "execution_count": 21,
      "outputs": [
        {
          "output_type": "stream",
          "text": [
            "-- cuda found TRUE\n",
            "-- Building shared library with GPU support\n",
            "-- Configuring done\n",
            "-- Generating done\n",
            "-- Build files have been written to: /content/warp-ctc/build\n",
            "[ 11%] \u001b[32m\u001b[1mLinking CXX shared library libwarpctc.so\u001b[0m\n",
            "[ 33%] Built target warpctc\n",
            "[ 44%] \u001b[32m\u001b[1mLinking CXX executable test_gpu\u001b[0m\n",
            "[ 66%] Built target test_gpu\n",
            "[ 77%] \u001b[32m\u001b[1mLinking CXX executable test_cpu\u001b[0m\n",
            "[100%] Built target test_cpu\n"
          ],
          "name": "stdout"
        }
      ]
    },
    {
      "metadata": {
        "id": "ur3ZVioHn5q6",
        "colab_type": "code",
        "colab": {
          "base_uri": "https://localhost:8080/",
          "height": 921
        },
        "outputId": "1cca23c5-0108-43cc-cf54-2583711492c6"
      },
      "cell_type": "code",
      "source": [
        "!pip3 install cffi\n",
        "%cd ../pytorch_binding\n",
        "!python setup.py install"
      ],
      "execution_count": 28,
      "outputs": [
        {
          "output_type": "stream",
          "text": [
            "Requirement already satisfied: cffi in /usr/local/lib/python3.6/dist-packages (1.12.2)\n",
            "Requirement already satisfied: pycparser in /usr/local/lib/python3.6/dist-packages (from cffi) (2.19)\n",
            "/content/warp-ctc/pytorch_binding\n",
            "running install\n",
            "running bdist_egg\n",
            "running egg_info\n",
            "creating warpctc_pytorch.egg-info\n",
            "writing warpctc_pytorch.egg-info/PKG-INFO\n",
            "writing dependency_links to warpctc_pytorch.egg-info/dependency_links.txt\n",
            "writing top-level names to warpctc_pytorch.egg-info/top_level.txt\n",
            "writing manifest file 'warpctc_pytorch.egg-info/SOURCES.txt'\n",
            "writing manifest file 'warpctc_pytorch.egg-info/SOURCES.txt'\n",
            "installing library code to build/bdist.linux-x86_64/egg\n",
            "running install_lib\n",
            "running build_py\n",
            "creating build\n",
            "creating build/lib.linux-x86_64-3.6\n",
            "creating build/lib.linux-x86_64-3.6/warpctc_pytorch\n",
            "copying warpctc_pytorch/__init__.py -> build/lib.linux-x86_64-3.6/warpctc_pytorch\n",
            "running build_ext\n",
            "building 'warpctc_pytorch._warp_ctc' extension\n",
            "creating build/temp.linux-x86_64-3.6\n",
            "creating build/temp.linux-x86_64-3.6/src\n",
            "x86_64-linux-gnu-gcc -pthread -DNDEBUG -g -fwrapv -O2 -Wall -g -fstack-protector-strong -Wformat -Werror=format-security -Wdate-time -D_FORTIFY_SOURCE=2 -fPIC -I/content/warp-ctc/include -I/usr/local/lib/python3.6/dist-packages/torch/lib/include -I/usr/local/lib/python3.6/dist-packages/torch/lib/include/torch/csrc/api/include -I/usr/local/lib/python3.6/dist-packages/torch/lib/include/TH -I/usr/local/lib/python3.6/dist-packages/torch/lib/include/THC -I/usr/local/cuda/include -I/usr/include/python3.6m -c src/binding.cpp -o build/temp.linux-x86_64-3.6/src/binding.o -std=c++11 -fPIC -DWARPCTC_ENABLE_GPU -DTORCH_API_INCLUDE_EXTENSION_H -DTORCH_EXTENSION_NAME=_warp_ctc -D_GLIBCXX_USE_CXX11_ABI=0\n",
            "x86_64-linux-gnu-g++ -pthread -shared -Wl,-O1 -Wl,-Bsymbolic-functions -Wl,-Bsymbolic-functions -Wl,-z,relro -Wl,-Bsymbolic-functions -Wl,-z,relro -g -fstack-protector-strong -Wformat -Werror=format-security -Wdate-time -D_FORTIFY_SOURCE=2 build/temp.linux-x86_64-3.6/src/binding.o -L/content/warp-ctc/build -L/usr/local/cuda/lib64 -lwarpctc -lcudart -o build/lib.linux-x86_64-3.6/warpctc_pytorch/_warp_ctc.cpython-36m-x86_64-linux-gnu.so -Wl,-rpath,/content/warp-ctc/build\n",
            "creating build/bdist.linux-x86_64\n",
            "creating build/bdist.linux-x86_64/egg\n",
            "creating build/bdist.linux-x86_64/egg/warpctc_pytorch\n",
            "copying build/lib.linux-x86_64-3.6/warpctc_pytorch/__init__.py -> build/bdist.linux-x86_64/egg/warpctc_pytorch\n",
            "copying build/lib.linux-x86_64-3.6/warpctc_pytorch/_warp_ctc.cpython-36m-x86_64-linux-gnu.so -> build/bdist.linux-x86_64/egg/warpctc_pytorch\n",
            "byte-compiling build/bdist.linux-x86_64/egg/warpctc_pytorch/__init__.py to __init__.cpython-36.pyc\n",
            "creating stub loader for warpctc_pytorch/_warp_ctc.cpython-36m-x86_64-linux-gnu.so\n",
            "byte-compiling build/bdist.linux-x86_64/egg/warpctc_pytorch/_warp_ctc.py to _warp_ctc.cpython-36.pyc\n",
            "creating build/bdist.linux-x86_64/egg/EGG-INFO\n",
            "copying warpctc_pytorch.egg-info/PKG-INFO -> build/bdist.linux-x86_64/egg/EGG-INFO\n",
            "copying warpctc_pytorch.egg-info/SOURCES.txt -> build/bdist.linux-x86_64/egg/EGG-INFO\n",
            "copying warpctc_pytorch.egg-info/dependency_links.txt -> build/bdist.linux-x86_64/egg/EGG-INFO\n",
            "copying warpctc_pytorch.egg-info/top_level.txt -> build/bdist.linux-x86_64/egg/EGG-INFO\n",
            "writing build/bdist.linux-x86_64/egg/EGG-INFO/native_libs.txt\n",
            "zip_safe flag not set; analyzing archive contents...\n",
            "warpctc_pytorch.__pycache__._warp_ctc.cpython-36: module references __file__\n",
            "creating dist\n",
            "creating 'dist/warpctc_pytorch-0.1-py3.6-linux-x86_64.egg' and adding 'build/bdist.linux-x86_64/egg' to it\n",
            "removing 'build/bdist.linux-x86_64/egg' (and everything under it)\n",
            "Processing warpctc_pytorch-0.1-py3.6-linux-x86_64.egg\n",
            "creating /usr/local/lib/python3.6/dist-packages/warpctc_pytorch-0.1-py3.6-linux-x86_64.egg\n",
            "Extracting warpctc_pytorch-0.1-py3.6-linux-x86_64.egg to /usr/local/lib/python3.6/dist-packages\n",
            "Adding warpctc-pytorch 0.1 to easy-install.pth file\n",
            "\n",
            "Installed /usr/local/lib/python3.6/dist-packages/warpctc_pytorch-0.1-py3.6-linux-x86_64.egg\n",
            "Processing dependencies for warpctc-pytorch==0.1\n",
            "Finished processing dependencies for warpctc-pytorch==0.1\n"
          ],
          "name": "stdout"
        }
      ]
    },
    {
      "metadata": {
        "id": "TkS9wFIbmUxx",
        "colab_type": "code",
        "colab": {
          "base_uri": "https://localhost:8080/",
          "height": 1547
        },
        "outputId": "324557c5-fdf4-4fec-f662-aff79e084e4b"
      },
      "cell_type": "code",
      "source": [
        "%cd /content\n",
        "!apt-get install sox libsox-dev libsox-fmt-all\n",
        "!git clone https://github.com/pytorch/audio.git\n",
        "%cd audio\n",
        "!python setup.py install"
      ],
      "execution_count": 22,
      "outputs": [
        {
          "output_type": "stream",
          "text": [
            "/content\n",
            "Reading package lists... Done\n",
            "Building dependency tree       \n",
            "Reading state information... Done\n",
            "libsox-dev is already the newest version (14.4.2-3).\n",
            "libsox-fmt-all is already the newest version (14.4.2-3).\n",
            "sox is already the newest version (14.4.2-3).\n",
            "The following package was automatically installed and is no longer required:\n",
            "  libnvidia-common-410\n",
            "Use 'apt autoremove' to remove it.\n",
            "0 upgraded, 0 newly installed, 0 to remove and 6 not upgraded.\n",
            "fatal: destination path 'audio' already exists and is not an empty directory.\n",
            "/content/audio\n",
            "running install\n",
            "running bdist_egg\n",
            "running egg_info\n",
            "writing torchaudio.egg-info/PKG-INFO\n",
            "writing dependency_links to torchaudio.egg-info/dependency_links.txt\n",
            "writing requirements to torchaudio.egg-info/requires.txt\n",
            "writing top-level names to torchaudio.egg-info/top_level.txt\n",
            "writing manifest file 'torchaudio.egg-info/SOURCES.txt'\n",
            "installing library code to build/bdist.linux-x86_64/egg\n",
            "running install_lib\n",
            "running build_py\n",
            "running build_ext\n",
            "creating build/bdist.linux-x86_64/egg\n",
            "creating build/bdist.linux-x86_64/egg/torchaudio\n",
            "copying build/lib.linux-x86_64-3.6/torchaudio/transforms.py -> build/bdist.linux-x86_64/egg/torchaudio\n",
            "copying build/lib.linux-x86_64-3.6/torchaudio/__init__.py -> build/bdist.linux-x86_64/egg/torchaudio\n",
            "copying build/lib.linux-x86_64-3.6/torchaudio/legacy.py -> build/bdist.linux-x86_64/egg/torchaudio\n",
            "copying build/lib.linux-x86_64-3.6/torchaudio/sox_effects.py -> build/bdist.linux-x86_64/egg/torchaudio\n",
            "creating build/bdist.linux-x86_64/egg/torchaudio/datasets\n",
            "copying build/lib.linux-x86_64-3.6/torchaudio/datasets/__init__.py -> build/bdist.linux-x86_64/egg/torchaudio/datasets\n",
            "copying build/lib.linux-x86_64-3.6/torchaudio/datasets/yesno.py -> build/bdist.linux-x86_64/egg/torchaudio/datasets\n",
            "copying build/lib.linux-x86_64-3.6/torchaudio/datasets/vctk.py -> build/bdist.linux-x86_64/egg/torchaudio/datasets\n",
            "creating build/bdist.linux-x86_64/egg/test\n",
            "copying build/lib.linux-x86_64-3.6/test/test.py -> build/bdist.linux-x86_64/egg/test\n",
            "copying build/lib.linux-x86_64-3.6/test/test_transforms.py -> build/bdist.linux-x86_64/egg/test\n",
            "copying build/lib.linux-x86_64-3.6/test/test_legacy.py -> build/bdist.linux-x86_64/egg/test\n",
            "copying build/lib.linux-x86_64-3.6/test/__init__.py -> build/bdist.linux-x86_64/egg/test\n",
            "copying build/lib.linux-x86_64-3.6/test/test_dataloader.py -> build/bdist.linux-x86_64/egg/test\n",
            "copying build/lib.linux-x86_64-3.6/test/test_sox_effects.py -> build/bdist.linux-x86_64/egg/test\n",
            "copying build/lib.linux-x86_64-3.6/_torch_sox.cpython-36m-x86_64-linux-gnu.so -> build/bdist.linux-x86_64/egg\n",
            "byte-compiling build/bdist.linux-x86_64/egg/torchaudio/transforms.py to transforms.cpython-36.pyc\n",
            "byte-compiling build/bdist.linux-x86_64/egg/torchaudio/__init__.py to __init__.cpython-36.pyc\n",
            "byte-compiling build/bdist.linux-x86_64/egg/torchaudio/legacy.py to legacy.cpython-36.pyc\n",
            "byte-compiling build/bdist.linux-x86_64/egg/torchaudio/sox_effects.py to sox_effects.cpython-36.pyc\n",
            "byte-compiling build/bdist.linux-x86_64/egg/torchaudio/datasets/__init__.py to __init__.cpython-36.pyc\n",
            "byte-compiling build/bdist.linux-x86_64/egg/torchaudio/datasets/yesno.py to yesno.cpython-36.pyc\n",
            "byte-compiling build/bdist.linux-x86_64/egg/torchaudio/datasets/vctk.py to vctk.cpython-36.pyc\n",
            "byte-compiling build/bdist.linux-x86_64/egg/test/test.py to test.cpython-36.pyc\n",
            "byte-compiling build/bdist.linux-x86_64/egg/test/test_transforms.py to test_transforms.cpython-36.pyc\n",
            "byte-compiling build/bdist.linux-x86_64/egg/test/test_legacy.py to test_legacy.cpython-36.pyc\n",
            "byte-compiling build/bdist.linux-x86_64/egg/test/__init__.py to __init__.cpython-36.pyc\n",
            "byte-compiling build/bdist.linux-x86_64/egg/test/test_dataloader.py to test_dataloader.cpython-36.pyc\n",
            "byte-compiling build/bdist.linux-x86_64/egg/test/test_sox_effects.py to test_sox_effects.cpython-36.pyc\n",
            "creating stub loader for _torch_sox.cpython-36m-x86_64-linux-gnu.so\n",
            "byte-compiling build/bdist.linux-x86_64/egg/_torch_sox.py to _torch_sox.cpython-36.pyc\n",
            "creating build/bdist.linux-x86_64/egg/EGG-INFO\n",
            "copying torchaudio.egg-info/PKG-INFO -> build/bdist.linux-x86_64/egg/EGG-INFO\n",
            "copying torchaudio.egg-info/SOURCES.txt -> build/bdist.linux-x86_64/egg/EGG-INFO\n",
            "copying torchaudio.egg-info/dependency_links.txt -> build/bdist.linux-x86_64/egg/EGG-INFO\n",
            "copying torchaudio.egg-info/requires.txt -> build/bdist.linux-x86_64/egg/EGG-INFO\n",
            "copying torchaudio.egg-info/top_level.txt -> build/bdist.linux-x86_64/egg/EGG-INFO\n",
            "writing build/bdist.linux-x86_64/egg/EGG-INFO/native_libs.txt\n",
            "zip_safe flag not set; analyzing archive contents...\n",
            "__pycache__._torch_sox.cpython-36: module references __file__\n",
            "test.__pycache__.test.cpython-36: module references __file__\n",
            "test.__pycache__.test_dataloader.cpython-36: module references __file__\n",
            "test.__pycache__.test_legacy.cpython-36: module references __file__\n",
            "test.__pycache__.test_sox_effects.cpython-36: module references __file__\n",
            "test.__pycache__.test_transforms.cpython-36: module references __file__\n",
            "creating 'dist/torchaudio-0.2-py3.6-linux-x86_64.egg' and adding 'build/bdist.linux-x86_64/egg' to it\n",
            "removing 'build/bdist.linux-x86_64/egg' (and everything under it)\n",
            "Processing torchaudio-0.2-py3.6-linux-x86_64.egg\n",
            "removing '/usr/local/lib/python3.6/dist-packages/torchaudio-0.2-py3.6-linux-x86_64.egg' (and everything under it)\n",
            "creating /usr/local/lib/python3.6/dist-packages/torchaudio-0.2-py3.6-linux-x86_64.egg\n",
            "Extracting torchaudio-0.2-py3.6-linux-x86_64.egg to /usr/local/lib/python3.6/dist-packages\n",
            "torchaudio 0.2 is already the active version in easy-install.pth\n",
            "\n",
            "Installed /usr/local/lib/python3.6/dist-packages/torchaudio-0.2-py3.6-linux-x86_64.egg\n",
            "Processing dependencies for torchaudio==0.2\n",
            "Searching for torch==1.0.1.post2\n",
            "Best match: torch 1.0.1.post2\n",
            "Adding torch 1.0.1.post2 to easy-install.pth file\n",
            "Installing convert-caffe2-to-onnx script to /usr/local/bin\n",
            "Installing convert-onnx-to-caffe2 script to /usr/local/bin\n",
            "\n",
            "Using /usr/local/lib/python3.6/dist-packages\n",
            "Finished processing dependencies for torchaudio==0.2\n"
          ],
          "name": "stdout"
        }
      ]
    },
    {
      "metadata": {
        "id": "RHjmVAxJvgaJ",
        "colab_type": "code",
        "colab": {
          "base_uri": "https://localhost:8080/",
          "height": 255
        },
        "outputId": "1c8d0b2d-5118-4c49-ee28-83bbf4aa3dfe"
      },
      "cell_type": "code",
      "source": [
        "!cd /content\n",
        "!git clone --recursive https://github.com/NVIDIA/apex.git\n",
        "!cd apex && pip install ."
      ],
      "execution_count": 41,
      "outputs": [
        {
          "output_type": "stream",
          "text": [
            "Cloning into 'apex'...\n",
            "remote: Enumerating objects: 161, done.\u001b[K\n",
            "remote: Counting objects:   0% (1/161)   \u001b[K\rremote: Counting objects:   1% (2/161)   \u001b[K\rremote: Counting objects:   2% (4/161)   \u001b[K\rremote: Counting objects:   3% (5/161)   \u001b[K\rremote: Counting objects:   4% (7/161)   \u001b[K\rremote: Counting objects:   5% (9/161)   \u001b[K\rremote: Counting objects:   6% (10/161)   \u001b[K\rremote: Counting objects:   7% (12/161)   \u001b[K\rremote: Counting objects:   8% (13/161)   \u001b[K\rremote: Counting objects:   9% (15/161)   \u001b[K\rremote: Counting objects:  10% (17/161)   \u001b[K\rremote: Counting objects:  11% (18/161)   \u001b[K\rremote: Counting objects:  12% (20/161)   \u001b[K\rremote: Counting objects:  13% (21/161)   \u001b[K\rremote: Counting objects:  14% (23/161)   \u001b[K\rremote: Counting objects:  15% (25/161)   \u001b[K\rremote: Counting objects:  16% (26/161)   \u001b[K\rremote: Counting objects:  17% (28/161)   \u001b[K\rremote: Counting objects:  18% (29/161)   \u001b[K\rremote: Counting objects:  19% (31/161)   \u001b[K\rremote: Counting objects:  20% (33/161)   \u001b[K\rremote: Counting objects:  21% (34/161)   \u001b[K\rremote: Counting objects:  22% (36/161)   \u001b[K\rremote: Counting objects:  23% (38/161)   \u001b[K\rremote: Counting objects:  24% (39/161)   \u001b[K\rremote: Counting objects:  25% (41/161)   \u001b[K\rremote: Counting objects:  26% (42/161)   \u001b[K\rremote: Counting objects:  27% (44/161)   \rremote: Counting objects:  28% (46/161)   \u001b[K\rremote: Counting objects:  29% (47/161)   \u001b[K\rremote: Counting objects:  30% (49/161)   \u001b[K\rremote: Counting objects:  31% (50/161)   \u001b[K\rremote: Counting objects:  32% (52/161)   \u001b[K\rremote: Counting objects:  33% (54/161)   \u001b[K\rremote: Counting objects:  34% (55/161)   \u001b[K\rremote: Counting objects:  35% (57/161)   \u001b[K\rremote: Counting objects:  36% (58/161)   \u001b[K\rremote: Counting objects:  37% (60/161)   \u001b[K\rremote: Counting objects:  38% (62/161)   \u001b[K\rremote: Counting objects:  39% (63/161)   \u001b[K\rremote: Counting objects:  40% (65/161)   \u001b[K\rremote: Counting objects:  41% (67/161)   \u001b[K\rremote: Counting objects:  42% (68/161)   \u001b[K\rremote: Counting objects:  43% (70/161)   \u001b[K\rremote: Counting objects:  44% (71/161)   \u001b[K\rremote: Counting objects:  45% (73/161)   \u001b[K\rremote: Counting objects:  46% (75/161)   \u001b[K\rremote: Counting objects:  47% (76/161)   \u001b[K\rremote: Counting objects:  48% (78/161)   \u001b[K\rremote: Counting objects:  49% (79/161)   \u001b[K\rremote: Counting objects:  50% (81/161)   \u001b[K\rremote: Counting objects:  51% (83/161)   \u001b[K\rremote: Counting objects:  52% (84/161)   \u001b[K\rremote: Counting objects:  53% (86/161)   \u001b[K\rremote: Counting objects:  54% (87/161)   \u001b[K\rremote: Counting objects:  55% (89/161)   \u001b[K\rremote: Counting objects:  56% (91/161)   \u001b[K\rremote: Counting objects:  57% (92/161)   \u001b[K\rremote: Counting objects:  58% (94/161)   \u001b[K\rremote: Counting objects:  59% (95/161)   \u001b[K\rremote: Counting objects:  60% (97/161)   \u001b[K\rremote: Counting objects:  61% (99/161)   \u001b[K\rremote: Counting objects:  62% (100/161)   \u001b[K\rremote: Counting objects:  63% (102/161)   \u001b[K\rremote: Counting objects:  64% (104/161)   \u001b[K\rremote: Counting objects:  65% (105/161)   \u001b[K\rremote: Counting objects:  66% (107/161)   \u001b[K\rremote: Counting objects:  67% (108/161)   \u001b[K\rremote: Counting objects:  68% (110/161)   \u001b[K\rremote: Counting objects:  69% (112/161)   \u001b[K\rremote: Counting objects:  70% (113/161)   \u001b[K\rremote: Counting objects:  71% (115/161)   \u001b[K\rremote: Counting objects:  72% (116/161)   \u001b[K\rremote: Counting objects:  73% (118/161)   \u001b[K\rremote: Counting objects:  74% (120/161)   \u001b[K\rremote: Counting objects:  75% (121/161)   \u001b[K\rremote: Counting objects:  76% (123/161)   \u001b[K\rremote: Counting objects:  77% (124/161)   \u001b[K\rremote: Counting objects:  78% (126/161)   \u001b[K\rremote: Counting objects:  79% (128/161)   \u001b[K\rremote: Counting objects:  80% (129/161)   \u001b[K\rremote: Counting objects:  81% (131/161)   \u001b[K\rremote: Counting objects:  82% (133/161)   \u001b[K\rremote: Counting objects:  83% (134/161)   \u001b[K\rremote: Counting objects:  84% (136/161)   \u001b[K\rremote: Counting objects:  85% (137/161)   \u001b[K\rremote: Counting objects:  86% (139/161)   \u001b[K\rremote: Counting objects:  87% (141/161)   \u001b[K\rremote: Counting objects:  88% (142/161)   \u001b[K\rremote: Counting objects:  89% (144/161)   \u001b[K\rremote: Counting objects:  90% (145/161)   \u001b[K\rremote: Counting objects:  91% (147/161)   \u001b[K\rremote: Counting objects:  92% (149/161)   \u001b[K\rremote: Counting objects:  93% (150/161)   \u001b[K\rremote: Counting objects:  94% (152/161)   \u001b[K\rremote: Counting objects:  95% (153/161)   \u001b[K\rremote: Counting objects:  96% (155/161)   \u001b[K\rremote: Counting objects:  97% (157/161)   \u001b[K\rremote: Counting objects:  98% (158/161)   \u001b[K\rremote: Counting objects:  99% (160/161)   \u001b[K\rremote: Counting objects: 100% (161/161)   \u001b[K\rremote: Counting objects: 100% (161/161), done.\u001b[K\n",
            "remote: Compressing objects:   1% (1/68)   \u001b[K\rremote: Compressing objects:   2% (2/68)   \u001b[K\rremote: Compressing objects:   4% (3/68)   \u001b[K\rremote: Compressing objects:   5% (4/68)   \u001b[K\rremote: Compressing objects:   7% (5/68)   \u001b[K\rremote: Compressing objects:   8% (6/68)   \u001b[K\rremote: Compressing objects:  10% (7/68)   \u001b[K\rremote: Compressing objects:  11% (8/68)   \u001b[K\rremote: Compressing objects:  13% (9/68)   \u001b[K\rremote: Compressing objects:  14% (10/68)   \u001b[K\rremote: Compressing objects:  16% (11/68)   \u001b[K\rremote: Compressing objects:  17% (12/68)   \u001b[K\rremote: Compressing objects:  19% (13/68)   \u001b[K\rremote: Compressing objects:  20% (14/68)   \u001b[K\rremote: Compressing objects:  22% (15/68)   \u001b[K\rremote: Compressing objects:  23% (16/68)   \u001b[K\rremote: Compressing objects:  25% (17/68)   \u001b[K\rremote: Compressing objects:  26% (18/68)   \u001b[K\rremote: Compressing objects:  27% (19/68)   \u001b[K\rremote: Compressing objects:  29% (20/68)   \u001b[K\rremote: Compressing objects:  30% (21/68)   \u001b[K\rremote: Compressing objects:  32% (22/68)   \u001b[K\rremote: Compressing objects:  33% (23/68)   \u001b[K\rremote: Compressing objects:  35% (24/68)   \u001b[K\rremote: Compressing objects:  36% (25/68)   \u001b[K\rremote: Compressing objects:  38% (26/68)   \u001b[K\rremote: Compressing objects:  39% (27/68)   \u001b[K\rremote: Compressing objects:  41% (28/68)   \u001b[K\rremote: Compressing objects:  42% (29/68)   \u001b[K\rremote: Compressing objects:  44% (30/68)   \u001b[K\rremote: Compressing objects:  45% (31/68)   \u001b[K\rremote: Compressing objects:  47% (32/68)   \u001b[K\rremote: Compressing objects:  48% (33/68)   \u001b[K\rremote: Compressing objects:  50% (34/68)   \u001b[K\rremote: Compressing objects:  51% (35/68)   \u001b[K\rremote: Compressing objects:  52% (36/68)   \u001b[K\rremote: Compressing objects:  54% (37/68)   \u001b[K\rremote: Compressing objects:  55% (38/68)   \u001b[K\rremote: Compressing objects:  57% (39/68)   \u001b[K\rremote: Compressing objects:  58% (40/68)   \u001b[K\rremote: Compressing objects:  60% (41/68)   \u001b[K\rremote: Compressing objects:  61% (42/68)   \u001b[K\rremote: Compressing objects:  63% (43/68)   \u001b[K\rremote: Compressing objects:  64% (44/68)   \u001b[K\rremote: Compressing objects:  66% (45/68)   \u001b[K\rremote: Compressing objects:  67% (46/68)   \u001b[K\rremote: Compressing objects:  69% (47/68)   \u001b[K\rremote: Compressing objects:  70% (48/68)   \u001b[K\rremote: Compressing objects:  72% (49/68)   \u001b[K\rremote: Compressing objects:  73% (50/68)   \u001b[K\rremote: Compressing objects:  75% (51/68)   \u001b[K\rremote: Compressing objects:  76% (52/68)   \u001b[K\rremote: Compressing objects:  77% (53/68)   \u001b[K\rremote: Compressing objects:  79% (54/68)   \u001b[K\rremote: Compressing objects:  80% (55/68)   \u001b[K\rremote: Compressing objects:  82% (56/68)   \u001b[K\rremote: Compressing objects:  83% (57/68)   \u001b[K\rremote: Compressing objects:  85% (58/68)   \u001b[K\rremote: Compressing objects:  86% (59/68)   \u001b[K\rremote: Compressing objects:  88% (60/68)   \u001b[K\rremote: Compressing objects:  89% (61/68)   \u001b[K\rremote: Compressing objects:  91% (62/68)   \u001b[K\rremote: Compressing objects:  92% (63/68)   \u001b[K\rremote: Compressing objects:  94% (64/68)   \u001b[K\rremote: Compressing objects:  95% (65/68)   \u001b[K\rremote: Compressing objects:  97% (66/68)   \u001b[K\rremote: Compressing objects:  98% (67/68)   \u001b[K\rremote: Compressing objects: 100% (68/68)   \u001b[K\rremote: Compressing objects: 100% (68/68), done.\u001b[K\n",
            "Receiving objects:   0% (1/3738)   \rReceiving objects:   1% (38/3738)   \rReceiving objects:   2% (75/3738)   \rReceiving objects:   3% (113/3738)   \rReceiving objects:   4% (150/3738)   \rReceiving objects:   5% (187/3738)   \rReceiving objects:   6% (225/3738)   \rReceiving objects:   7% (262/3738)   \rReceiving objects:   8% (300/3738)   \rReceiving objects:   9% (337/3738)   \rReceiving objects:  10% (374/3738)   \rReceiving objects:  11% (412/3738)   \rReceiving objects:  12% (449/3738)   \rReceiving objects:  13% (486/3738)   \rReceiving objects:  14% (524/3738)   \rReceiving objects:  15% (561/3738)   \rReceiving objects:  16% (599/3738)   \rReceiving objects:  17% (636/3738)   \rReceiving objects:  18% (673/3738)   \rReceiving objects:  19% (711/3738)   \rReceiving objects:  20% (748/3738)   \rReceiving objects:  21% (785/3738)   \rReceiving objects:  22% (823/3738)   \rReceiving objects:  23% (860/3738)   \rReceiving objects:  24% (898/3738)   \rReceiving objects:  25% (935/3738)   \rReceiving objects:  26% (972/3738)   \rReceiving objects:  27% (1010/3738)   \rReceiving objects:  28% (1047/3738)   \rReceiving objects:  29% (1085/3738)   \rReceiving objects:  30% (1122/3738)   \rReceiving objects:  31% (1159/3738)   \rReceiving objects:  32% (1197/3738)   \rReceiving objects:  33% (1234/3738)   \rReceiving objects:  34% (1271/3738)   \rReceiving objects:  35% (1309/3738)   \rReceiving objects:  36% (1346/3738)   \rReceiving objects:  37% (1384/3738)   \rReceiving objects:  38% (1421/3738)   \rReceiving objects:  39% (1458/3738)   \rReceiving objects:  40% (1496/3738)   \rReceiving objects:  41% (1533/3738)   \rReceiving objects:  42% (1570/3738)   \rReceiving objects:  43% (1608/3738)   \rReceiving objects:  44% (1645/3738)   \rReceiving objects:  45% (1683/3738)   \rReceiving objects:  46% (1720/3738)   \rReceiving objects:  47% (1757/3738)   \rReceiving objects:  48% (1795/3738)   \rReceiving objects:  49% (1832/3738)   \rReceiving objects:  50% (1869/3738)   \rReceiving objects:  51% (1907/3738)   \rReceiving objects:  52% (1944/3738)   \rReceiving objects:  53% (1982/3738)   \rReceiving objects:  54% (2019/3738)   \rReceiving objects:  55% (2056/3738)   \rReceiving objects:  56% (2094/3738)   \rReceiving objects:  57% (2131/3738)   \rReceiving objects:  58% (2169/3738)   \rReceiving objects:  59% (2206/3738)   \rReceiving objects:  60% (2243/3738)   \rReceiving objects:  61% (2281/3738)   \rReceiving objects:  62% (2318/3738)   \rReceiving objects:  63% (2355/3738)   \rReceiving objects:  64% (2393/3738)   \rReceiving objects:  65% (2430/3738)   \rReceiving objects:  66% (2468/3738)   \rReceiving objects:  67% (2505/3738)   \rReceiving objects:  68% (2542/3738)   \rReceiving objects:  69% (2580/3738)   \rReceiving objects:  70% (2617/3738)   \rReceiving objects:  71% (2654/3738)   \rReceiving objects:  72% (2692/3738)   \rReceiving objects:  73% (2729/3738)   \rReceiving objects:  74% (2767/3738)   \rReceiving objects:  75% (2804/3738)   \rReceiving objects:  76% (2841/3738)   \rReceiving objects:  77% (2879/3738)   \rReceiving objects:  78% (2916/3738)   \rReceiving objects:  79% (2954/3738)   \rReceiving objects:  80% (2991/3738)   \rReceiving objects:  81% (3028/3738)   \rReceiving objects:  82% (3066/3738)   \rReceiving objects:  83% (3103/3738)   \rReceiving objects:  84% (3140/3738)   \rReceiving objects:  85% (3178/3738)   \rReceiving objects:  86% (3215/3738)   \rReceiving objects:  87% (3253/3738)   \rReceiving objects:  88% (3290/3738)   \rReceiving objects:  89% (3327/3738)   \rReceiving objects:  90% (3365/3738)   \rReceiving objects:  91% (3402/3738)   \rReceiving objects:  92% (3439/3738)   \rReceiving objects:  93% (3477/3738)   \rReceiving objects:  94% (3514/3738)   \rReceiving objects:  95% (3552/3738)   \rReceiving objects:  96% (3589/3738)   \rReceiving objects:  97% (3626/3738)   \rReceiving objects:  98% (3664/3738)   \rReceiving objects:  99% (3701/3738)   \rremote: Total 3738 (delta 89), reused 161 (delta 89), pack-reused 3577\u001b[K\n",
            "Receiving objects: 100% (3738/3738)   \rReceiving objects: 100% (3738/3738), 8.40 MiB | 20.43 MiB/s, done.\n",
            "Resolving deltas:   0% (0/2364)   \rResolving deltas:   1% (29/2364)   \rResolving deltas:   2% (48/2364)   \rResolving deltas:   3% (71/2364)   \rResolving deltas:   4% (100/2364)   \rResolving deltas:   5% (125/2364)   \rResolving deltas:   6% (146/2364)   \rResolving deltas:   7% (179/2364)   \rResolving deltas:   8% (195/2364)   \rResolving deltas:   9% (225/2364)   \rResolving deltas:  10% (237/2364)   \rResolving deltas:  11% (264/2364)   \rResolving deltas:  12% (299/2364)   \rResolving deltas:  13% (310/2364)   \rResolving deltas:  14% (333/2364)   \rResolving deltas:  15% (362/2364)   \rResolving deltas:  16% (385/2364)   \rResolving deltas:  17% (406/2364)   \rResolving deltas:  18% (427/2364)   \rResolving deltas:  19% (456/2364)   \rResolving deltas:  20% (475/2364)   \rResolving deltas:  21% (498/2364)   \rResolving deltas:  22% (528/2364)   \rResolving deltas:  23% (545/2364)   \rResolving deltas:  24% (570/2364)   \rResolving deltas:  25% (592/2364)   \rResolving deltas:  26% (621/2364)   \rResolving deltas:  27% (640/2364)   \rResolving deltas:  28% (671/2364)   \rResolving deltas:  29% (687/2364)   \rResolving deltas:  30% (713/2364)   \rResolving deltas:  31% (733/2364)   \rResolving deltas:  32% (760/2364)   \rResolving deltas:  34% (824/2364)   \rResolving deltas:  36% (855/2364)   \rResolving deltas:  37% (877/2364)   \rResolving deltas:  38% (900/2364)   \rResolving deltas:  39% (926/2364)   \rResolving deltas:  40% (958/2364)   \rResolving deltas:  42% (1007/2364)   \rResolving deltas:  43% (1021/2364)   \rResolving deltas:  46% (1098/2364)   \rResolving deltas:  47% (1116/2364)   \rResolving deltas:  48% (1136/2364)   \rResolving deltas:  49% (1162/2364)   \rResolving deltas:  50% (1185/2364)   \rResolving deltas:  51% (1216/2364)   \rResolving deltas:  53% (1256/2364)   \rResolving deltas:  54% (1279/2364)   \rResolving deltas:  55% (1303/2364)   \rResolving deltas:  56% (1336/2364)   \rResolving deltas:  57% (1352/2364)   \rResolving deltas:  58% (1372/2364)   \rResolving deltas:  59% (1397/2364)   \rResolving deltas:  60% (1422/2364)   \rResolving deltas:  61% (1443/2364)   \rResolving deltas:  62% (1479/2364)   \rResolving deltas:  63% (1496/2364)   \rResolving deltas:  64% (1515/2364)   \rResolving deltas:  66% (1566/2364)   \rResolving deltas:  67% (1588/2364)   \rResolving deltas:  68% (1610/2364)   \rResolving deltas:  69% (1653/2364)   \rResolving deltas:  70% (1661/2364)   \rResolving deltas:  72% (1711/2364)   \rResolving deltas:  73% (1730/2364)   \rResolving deltas:  75% (1777/2364)   \rResolving deltas:  76% (1820/2364)   \rResolving deltas:  77% (1842/2364)   \rResolving deltas:  78% (1846/2364)   \rResolving deltas:  80% (1892/2364)   \rResolving deltas:  81% (1929/2364)   \rResolving deltas:  82% (1943/2364)   \rResolving deltas:  83% (1968/2364)   \rResolving deltas:  84% (1987/2364)   \rResolving deltas:  85% (2010/2364)   \rResolving deltas:  86% (2041/2364)   \rResolving deltas:  87% (2059/2364)   \rResolving deltas:  88% (2088/2364)   \rResolving deltas:  89% (2118/2364)   \rResolving deltas:  90% (2130/2364)   \rResolving deltas:  92% (2181/2364)   \rResolving deltas:  93% (2212/2364)   \rResolving deltas:  94% (2230/2364)   \rResolving deltas:  95% (2247/2364)   \rResolving deltas:  96% (2270/2364)   \rResolving deltas:  97% (2294/2364)   \rResolving deltas:  98% (2317/2364)   \rResolving deltas:  99% (2347/2364)   \rResolving deltas: 100% (2364/2364)   \rResolving deltas: 100% (2364/2364), done.\n",
            "Processing /content/deepspeech.pytorch/apex\n",
            "Building wheels for collected packages: apex\n",
            "  Building wheel for apex (setup.py) ... \u001b[?25ldone\n",
            "\u001b[?25h  Stored in directory: /tmp/pip-ephem-wheel-cache-d76f8ewb/wheels/e7/4a/8c/f1b1e81742dec196ca1a390b5d69f75e382324aa243dd089fa\n",
            "Successfully built apex\n",
            "Installing collected packages: apex\n",
            "Successfully installed apex-0.1\n"
          ],
          "name": "stdout"
        }
      ]
    },
    {
      "metadata": {
        "id": "YV6JwaC1muaL",
        "colab_type": "code",
        "colab": {
          "base_uri": "https://localhost:8080/",
          "height": 530
        },
        "outputId": "74b0a1d2-8f0a-4027-a8a9-d15a50eaeff4"
      },
      "cell_type": "code",
      "source": [
        "%cd /content/deepspeech.pytorch\n",
        "!pip install -r requirements.txt"
      ],
      "execution_count": 23,
      "outputs": [
        {
          "output_type": "stream",
          "text": [
            "/content/deepspeech.pytorch\n",
            "Requirement already satisfied: python-levenshtein in /usr/local/lib/python3.6/dist-packages (from -r requirements.txt (line 1)) (0.12.0)\n",
            "Requirement already satisfied: torch in /usr/local/lib/python3.6/dist-packages (from -r requirements.txt (line 2)) (1.0.1.post2)\n",
            "Requirement already satisfied: visdom in /usr/local/lib/python3.6/dist-packages (from -r requirements.txt (line 3)) (0.1.8.8)\n",
            "Requirement already satisfied: wget in /usr/local/lib/python3.6/dist-packages (from -r requirements.txt (line 4)) (3.2)\n",
            "Requirement already satisfied: librosa in /usr/local/lib/python3.6/dist-packages (from -r requirements.txt (line 5)) (0.6.3)\n",
            "Requirement already satisfied: tqdm in /usr/local/lib/python3.6/dist-packages (from -r requirements.txt (line 6)) (4.28.1)\n",
            "Requirement already satisfied: setuptools in /usr/local/lib/python3.6/dist-packages (from python-levenshtein->-r requirements.txt (line 1)) (40.8.0)\n",
            "Requirement already satisfied: tornado in /usr/local/lib/python3.6/dist-packages (from visdom->-r requirements.txt (line 3)) (4.5.3)\n",
            "Requirement already satisfied: scipy in /usr/local/lib/python3.6/dist-packages (from visdom->-r requirements.txt (line 3)) (1.1.0)\n",
            "Requirement already satisfied: pyzmq in /usr/local/lib/python3.6/dist-packages (from visdom->-r requirements.txt (line 3)) (17.0.0)\n",
            "Requirement already satisfied: numpy>=1.8 in /usr/local/lib/python3.6/dist-packages (from visdom->-r requirements.txt (line 3)) (1.14.6)\n",
            "Requirement already satisfied: torchfile in /usr/local/lib/python3.6/dist-packages (from visdom->-r requirements.txt (line 3)) (0.1.0)\n",
            "Requirement already satisfied: websocket-client in /usr/local/lib/python3.6/dist-packages (from visdom->-r requirements.txt (line 3)) (0.56.0)\n",
            "Requirement already satisfied: six in /usr/local/lib/python3.6/dist-packages (from visdom->-r requirements.txt (line 3)) (1.11.0)\n",
            "Requirement already satisfied: requests in /usr/local/lib/python3.6/dist-packages (from visdom->-r requirements.txt (line 3)) (2.18.4)\n",
            "Requirement already satisfied: pillow in /usr/local/lib/python3.6/dist-packages (from visdom->-r requirements.txt (line 3)) (4.1.1)\n",
            "Requirement already satisfied: audioread>=2.0.0 in /usr/local/lib/python3.6/dist-packages (from librosa->-r requirements.txt (line 5)) (2.1.6)\n",
            "Requirement already satisfied: scikit-learn!=0.19.0,>=0.14.0 in /usr/local/lib/python3.6/dist-packages (from librosa->-r requirements.txt (line 5)) (0.20.3)\n",
            "Requirement already satisfied: joblib>=0.12 in /usr/local/lib/python3.6/dist-packages (from librosa->-r requirements.txt (line 5)) (0.12.5)\n",
            "Requirement already satisfied: decorator>=3.0.0 in /usr/local/lib/python3.6/dist-packages (from librosa->-r requirements.txt (line 5)) (4.4.0)\n",
            "Requirement already satisfied: resampy>=0.2.0 in /usr/local/lib/python3.6/dist-packages (from librosa->-r requirements.txt (line 5)) (0.2.1)\n",
            "Requirement already satisfied: numba>=0.38.0 in /usr/local/lib/python3.6/dist-packages (from librosa->-r requirements.txt (line 5)) (0.40.1)\n",
            "Requirement already satisfied: chardet<3.1.0,>=3.0.2 in /usr/local/lib/python3.6/dist-packages (from requests->visdom->-r requirements.txt (line 3)) (3.0.4)\n",
            "Requirement already satisfied: certifi>=2017.4.17 in /usr/local/lib/python3.6/dist-packages (from requests->visdom->-r requirements.txt (line 3)) (2019.3.9)\n",
            "Requirement already satisfied: urllib3<1.23,>=1.21.1 in /usr/local/lib/python3.6/dist-packages (from requests->visdom->-r requirements.txt (line 3)) (1.22)\n",
            "Requirement already satisfied: idna<2.7,>=2.5 in /usr/local/lib/python3.6/dist-packages (from requests->visdom->-r requirements.txt (line 3)) (2.6)\n",
            "Requirement already satisfied: olefile in /usr/local/lib/python3.6/dist-packages (from pillow->visdom->-r requirements.txt (line 3)) (0.46)\n",
            "Requirement already satisfied: llvmlite>=0.25.0dev0 in /usr/local/lib/python3.6/dist-packages (from numba>=0.38.0->librosa->-r requirements.txt (line 5)) (0.28.0)\n"
          ],
          "name": "stdout"
        }
      ]
    },
    {
      "metadata": {
        "id": "lNfYHYNOnGOH",
        "colab_type": "code",
        "colab": {
          "base_uri": "https://localhost:8080/",
          "height": 1598
        },
        "outputId": "2d98cf81-bebb-4f91-ff3b-f7565256a7b6"
      },
      "cell_type": "code",
      "source": [
        "%cd /content/deepspeech.pytorch\n",
        "!python train.py --help"
      ],
      "execution_count": 29,
      "outputs": [
        {
          "output_type": "stream",
          "text": [
            "/content/deepspeech.pytorch\n",
            "usage: train.py [-h] [--train-manifest DIR] [--val-manifest DIR]\n",
            "                [--sample-rate SAMPLE_RATE] [--batch-size BATCH_SIZE]\n",
            "                [--num-workers NUM_WORKERS] [--labels-path LABELS_PATH]\n",
            "                [--window-size WINDOW_SIZE] [--window-stride WINDOW_STRIDE]\n",
            "                [--window WINDOW] [--hidden-size HIDDEN_SIZE]\n",
            "                [--hidden-layers HIDDEN_LAYERS] [--rnn-type RNN_TYPE]\n",
            "                [--epochs EPOCHS] [--cuda] [--lr LR] [--momentum MOMENTUM]\n",
            "                [--max-norm MAX_NORM] [--learning-anneal LEARNING_ANNEAL]\n",
            "                [--silent] [--checkpoint]\n",
            "                [--checkpoint-per-batch CHECKPOINT_PER_BATCH] [--visdom]\n",
            "                [--tensorboard] [--log-dir LOG_DIR] [--log-params] [--id ID]\n",
            "                [--save-folder SAVE_FOLDER] [--model-path MODEL_PATH]\n",
            "                [--continue-from CONTINUE_FROM] [--finetune] [--augment]\n",
            "                [--noise-dir NOISE_DIR] [--noise-prob NOISE_PROB]\n",
            "                [--noise-min NOISE_MIN] [--noise-max NOISE_MAX] [--no-shuffle]\n",
            "                [--no-sortaGrad] [--no-bidirectional] [--dist-url DIST_URL]\n",
            "                [--dist-backend DIST_BACKEND] [--world-size WORLD_SIZE]\n",
            "                [--rank RANK] [--gpu-rank GPU_RANK]\n",
            "\n",
            "DeepSpeech training\n",
            "\n",
            "optional arguments:\n",
            "  -h, --help            show this help message and exit\n",
            "  --train-manifest DIR  path to train manifest csv\n",
            "  --val-manifest DIR    path to validation manifest csv\n",
            "  --sample-rate SAMPLE_RATE\n",
            "                        Sample rate\n",
            "  --batch-size BATCH_SIZE\n",
            "                        Batch size for training\n",
            "  --num-workers NUM_WORKERS\n",
            "                        Number of workers used in data-loading\n",
            "  --labels-path LABELS_PATH\n",
            "                        Contains all characters for transcription\n",
            "  --window-size WINDOW_SIZE\n",
            "                        Window size for spectrogram in seconds\n",
            "  --window-stride WINDOW_STRIDE\n",
            "                        Window stride for spectrogram in seconds\n",
            "  --window WINDOW       Window type for spectrogram generation\n",
            "  --hidden-size HIDDEN_SIZE\n",
            "                        Hidden size of RNNs\n",
            "  --hidden-layers HIDDEN_LAYERS\n",
            "                        Number of RNN layers\n",
            "  --rnn-type RNN_TYPE   Type of the RNN. rnn|gru|lstm are supported\n",
            "  --epochs EPOCHS       Number of training epochs\n",
            "  --cuda                Use cuda to train model\n",
            "  --lr LR, --learning-rate LR\n",
            "                        initial learning rate\n",
            "  --momentum MOMENTUM   momentum\n",
            "  --max-norm MAX_NORM   Norm cutoff to prevent explosion of gradients\n",
            "  --learning-anneal LEARNING_ANNEAL\n",
            "                        Annealing applied to learning rate every epoch\n",
            "  --silent              Turn off progress tracking per iteration\n",
            "  --checkpoint          Enables checkpoint saving of model\n",
            "  --checkpoint-per-batch CHECKPOINT_PER_BATCH\n",
            "                        Save checkpoint per batch. 0 means never save\n",
            "  --visdom              Turn on visdom graphing\n",
            "  --tensorboard         Turn on tensorboard graphing\n",
            "  --log-dir LOG_DIR     Location of tensorboard log\n",
            "  --log-params          Log parameter values and gradients\n",
            "  --id ID               Identifier for visdom/tensorboard run\n",
            "  --save-folder SAVE_FOLDER\n",
            "                        Location to save epoch models\n",
            "  --model-path MODEL_PATH\n",
            "                        Location to save best validation model\n",
            "  --continue-from CONTINUE_FROM\n",
            "                        Continue from checkpoint model\n",
            "  --finetune            Finetune the model from checkpoint \"continue_from\"\n",
            "  --augment             Use random tempo and gain perturbations.\n",
            "  --noise-dir NOISE_DIR\n",
            "                        Directory to inject noise into audio. If default,\n",
            "                        noise Inject not added\n",
            "  --noise-prob NOISE_PROB\n",
            "                        Probability of noise being added per sample\n",
            "  --noise-min NOISE_MIN\n",
            "                        Minimum noise level to sample from. (1.0 means all\n",
            "                        noise, not original signal)\n",
            "  --noise-max NOISE_MAX\n",
            "                        Maximum noise levels to sample from. Maximum 1.0\n",
            "  --no-shuffle          Turn off shuffling and sample from dataset based on\n",
            "                        sequence length (smallest to largest)\n",
            "  --no-sortaGrad        Turn off ordering of dataset on sequence length for\n",
            "                        the first epoch.\n",
            "  --no-bidirectional    Turn off bi-directional RNNs, introduces lookahead\n",
            "                        convolution\n",
            "  --dist-url DIST_URL   url used to set up distributed training\n",
            "  --dist-backend DIST_BACKEND\n",
            "                        distributed backend\n",
            "  --world-size WORLD_SIZE\n",
            "                        number of distributed processes\n",
            "  --rank RANK           The rank of this process\n",
            "  --gpu-rank GPU_RANK   If using distributed parallel for multi-gpu, sets the\n",
            "                        GPU for the process\n"
          ],
          "name": "stdout"
        }
      ]
    },
    {
      "metadata": {
        "id": "PQh0HvIdnS4b",
        "colab_type": "code",
        "colab": {
          "base_uri": "https://localhost:8080/",
          "height": 122
        },
        "outputId": "52efd0c2-a1e2-4b87-b105-2c1846dbbadb"
      },
      "cell_type": "code",
      "source": [
        "from google.colab import drive\n",
        "drive.mount('/content/gdrive')"
      ],
      "execution_count": 30,
      "outputs": [
        {
          "output_type": "stream",
          "text": [
            "Go to this URL in a browser: https://accounts.google.com/o/oauth2/auth?client_id=947318989803-6bn6qk8qdgf4n4g3pfee6491hc0brc4i.apps.googleusercontent.com&redirect_uri=urn%3Aietf%3Awg%3Aoauth%3A2.0%3Aoob&scope=email%20https%3A%2F%2Fwww.googleapis.com%2Fauth%2Fdocs.test%20https%3A%2F%2Fwww.googleapis.com%2Fauth%2Fdrive%20https%3A%2F%2Fwww.googleapis.com%2Fauth%2Fdrive.photos.readonly%20https%3A%2F%2Fwww.googleapis.com%2Fauth%2Fpeopleapi.readonly&response_type=code\n",
            "\n",
            "Enter your authorization code:\n",
            "··········\n",
            "Mounted at /content/gdrive\n"
          ],
          "name": "stdout"
        }
      ]
    },
    {
      "metadata": {
        "id": "UZoHObkVoe-i",
        "colab_type": "code",
        "colab": {}
      },
      "cell_type": "code",
      "source": [
        "!cp \"/content/gdrive/My Drive/train.csv\" /content\n",
        "!cp \"/content/gdrive/My Drive/val.csv\" /content\n",
        "!cp \"/content/gdrive/My Drive/test_voxforge_kek.csv\" /content\n",
        "#!cp \"/content/gdrive/My Drive/Models_aug/final.pth\" /content"
      ],
      "execution_count": 0,
      "outputs": []
    },
    {
      "metadata": {
        "id": "wXE11e4GoM5s",
        "colab_type": "code",
        "colab": {
          "base_uri": "https://localhost:8080/",
          "height": 1032
        },
        "outputId": "77bffb7e-f60d-47ba-97ec-0c90a9ce5ddb"
      },
      "cell_type": "code",
      "source": [
        "%cd /content/deepspeech.pytorch\n",
        "!python3 train.py --train-manifest \"/content/train.csv\" --val-manifest \"/content/val.csv\" --cuda --num-workers 0 --augment --checkpoint --save-folder \"/content\" --model-path \"/content/test.pth\" "
      ],
      "execution_count": 0,
      "outputs": [
        {
          "output_type": "stream",
          "text": [
            "/content/deepspeech.pytorch\n",
            "DeepSpeech(\n",
            "  (conv): MaskConv(\n",
            "    (seq_module): Sequential(\n",
            "      (0): Conv2d(1, 32, kernel_size=(41, 11), stride=(2, 2), padding=(20, 5))\n",
            "      (1): BatchNorm2d(32, eps=1e-05, momentum=0.1, affine=True, track_running_stats=True)\n",
            "      (2): Hardtanh(min_val=0, max_val=20, inplace)\n",
            "      (3): Conv2d(32, 32, kernel_size=(21, 11), stride=(2, 1), padding=(10, 5))\n",
            "      (4): BatchNorm2d(32, eps=1e-05, momentum=0.1, affine=True, track_running_stats=True)\n",
            "      (5): Hardtanh(min_val=0, max_val=20, inplace)\n",
            "    )\n",
            "  )\n",
            "  (rnns): Sequential(\n",
            "    (0): BatchRNN(\n",
            "      (rnn): GRU(1312, 800, bidirectional=True)\n",
            "    )\n",
            "    (1): BatchRNN(\n",
            "      (batch_norm): SequenceWise (\n",
            "      BatchNorm1d(800, eps=1e-05, momentum=0.1, affine=True, track_running_stats=True))\n",
            "      (rnn): GRU(800, 800, bidirectional=True)\n",
            "    )\n",
            "    (2): BatchRNN(\n",
            "      (batch_norm): SequenceWise (\n",
            "      BatchNorm1d(800, eps=1e-05, momentum=0.1, affine=True, track_running_stats=True))\n",
            "      (rnn): GRU(800, 800, bidirectional=True)\n",
            "    )\n",
            "    (3): BatchRNN(\n",
            "      (batch_norm): SequenceWise (\n",
            "      BatchNorm1d(800, eps=1e-05, momentum=0.1, affine=True, track_running_stats=True))\n",
            "      (rnn): GRU(800, 800, bidirectional=True)\n",
            "    )\n",
            "    (4): BatchRNN(\n",
            "      (batch_norm): SequenceWise (\n",
            "      BatchNorm1d(800, eps=1e-05, momentum=0.1, affine=True, track_running_stats=True))\n",
            "      (rnn): GRU(800, 800, bidirectional=True)\n",
            "    )\n",
            "  )\n",
            "  (fc): Sequential(\n",
            "    (0): SequenceWise (\n",
            "    Sequential(\n",
            "      (0): BatchNorm1d(800, eps=1e-05, momentum=0.1, affine=True, track_running_stats=True)\n",
            "      (1): Linear(in_features=800, out_features=36, bias=False)\n",
            "    ))\n",
            "  )\n",
            "  (inference_softmax): InferenceBatchSoftmax()\n",
            ")\n",
            "Number of parameters: 41193568\n",
            "Epoch: [1][1/378]\tTime 6.222 (6.222)\tData 1.389 (1.389)\tLoss 1018.7324 (1018.7324)\t\n",
            "Epoch: [1][2/378]\tTime 6.082 (6.152)\tData 1.420 (1.405)\tLoss 987.3080 (1003.0202)\t\n",
            "Epoch: [1][3/378]\tTime 5.881 (6.062)\tData 1.377 (1.395)\tLoss 644.3422 (883.4609)\t\n",
            "Epoch: [1][4/378]\tTime 5.401 (5.897)\tData 1.392 (1.394)\tLoss 537.9399 (797.0806)\t\n",
            "Epoch: [1][5/378]\tTime 5.753 (5.868)\tData 1.444 (1.404)\tLoss 502.1849 (738.1015)\t\n",
            "Epoch: [1][6/378]\tTime 5.967 (5.884)\tData 1.369 (1.398)\tLoss 353.2794 (673.9645)\t\n",
            "Epoch: [1][7/378]\tTime 5.346 (5.807)\tData 1.337 (1.390)\tLoss 289.2641 (619.0073)\t\n",
            "Epoch: [1][8/378]\tTime 6.012 (5.833)\tData 1.396 (1.390)\tLoss 331.6439 (583.0869)\t\n",
            "Epoch: [1][9/378]\tTime 5.450 (5.790)\tData 1.327 (1.383)\tLoss 325.3942 (554.4543)\t\n",
            "Epoch: [1][10/378]\tTime 5.832 (5.795)\tData 1.353 (1.380)\tLoss 372.5606 (536.2650)\t\n",
            "Epoch: [1][11/378]\tTime 6.349 (5.845)\tData 1.411 (1.383)\tLoss 349.2699 (519.2654)\t\n"
          ],
          "name": "stdout"
        }
      ]
    },
    {
      "metadata": {
        "id": "CxDfZMsYolj8",
        "colab_type": "code",
        "colab": {}
      },
      "cell_type": "code",
      "source": [
        ""
      ],
      "execution_count": 0,
      "outputs": []
    },
    {
      "metadata": {
        "id": "Igi_MHJEte5p",
        "colab_type": "code",
        "colab": {}
      },
      "cell_type": "code",
      "source": [
        ""
      ],
      "execution_count": 0,
      "outputs": []
    }
  ]
}